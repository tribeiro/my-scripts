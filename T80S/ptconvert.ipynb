{
 "worksheets": [
  {
   "cells": [
    {
     "cell_type": "markdown",
     "metadata": {},
     "source": [
      "Purpose: Convert text file extracted from log to a pointing model file."
     ]
    },
    {
     "cell_type": "code",
     "execution_count": null,
     "metadata": {},
     "outputs": [],
     "input": [
      "import os\n",
      "from astropy import units\n",
      "from astropy.coordinates import Angle\n",
      "import numpy as np"
     ],
     "language": "python",
     "prompt_number": 5
    },
    {
     "cell_type": "code",
     "execution_count": null,
     "metadata": {},
     "outputs": [],
     "input": [
      "fpath = os.path.expanduser('~/Downloads/pointing_model.txt')\n",
      "dtype = [('OBJECT', 'S8') , ('AZ', np.float) , ('dAZ', np.float) , ('ZD', np.float) , ('dZD', np.float) , ('ROT', np.float) , ('dROT', np.float) ,('DOMEAZ', np.float) ,('dDOMEAZ', np.float)]\n",
      "data = np.loadtxt(fpath,delimiter=';',dtype = dtype)"
     ],
     "language": "python",
     "prompt_number": 13
    },
    {
     "cell_type": "code",
     "execution_count": null,
     "metadata": {},
     "outputs": [
      {
       "output_type": "stream",
       "stream": "stdout",
       "text": [
        "[ ('FK6 4027', 126.74948333333332, -0.9109916666666666, 184.32142, -0.008038611111111111, 0.0, 0.0, 290.0, 5.1289175)\n ('FK6 4655', 227.6308, -0.8950769444444444, 170.22869916666667, -0.0023941666666666664, 0.0, 0.0, 75.0, 19.52215222222222)\n ('FK6 6082', 108.39241000000001, -1.044661388888889, 116.42892222222223, -0.0009805555555555555, 0.0, 0.0, 210.00000000000003, -12.058523333333333)\n ('FK6 4306', 161.9345363888889, -0.9101547222222223, 197.53801944444444, -0.010373888888888887, 0.0, 0.0, 335.0, 22.45442)\n ('FK6 4763', 234.87962472222222, -0.9110075000000001, 137.71751805555556, -0.0030727777777777776, 0.0, 0.0, 119.99999999999999, 9.992968055555554)\n ('FK6 4142', 127.75061861111111, -0.9167299999999999, 152.71102694444443, -0.007751388888888888, 0.0, 0.0, 260.0, -8.264978888888889)\n ('FK6 4577', 196.8532297222222, -0.8881633333333333, 179.1464288888889, -0.002303888888888889, 0.0, 0.0, 29.999999999999996, 34.31986388888889)\n ('FK6 4487', 179.17660805555553, -1.0219777777777777, 115.95029805555556, 0.0016688888888888888, 0.0, 0.0, -180.0, 333.6050327777778)\n ('FK6 4353', 155.1146997222222, -0.9152777777777777, 170.5167638888889, -0.007105277777777778, 0.0, 0.0, 305.0, 28.867945833333337)\n ('FK6 2528', 196.60863416666666, -0.9205261111111112, 152.64538583333334, -0.005698055555555556, 0.0, 0.0, 80.0, 25.218864444444446)\n ('FK6 4462', 167.64863527777777, -0.9329750000000001, 143.04356916666666, -0.0026313888888888893, 0.0, 0.0, -130.0, 271.5465313888889)]\n"
       ]
      }
     ],
     "input": [
      "print data"
     ],
     "language": "python",
     "prompt_number": 18
    },
    {
     "cell_type": "code",
     "execution_count": null,
     "metadata": {},
     "outputs": [],
     "input": [
      "for i in range(len(data)):\n",
      "    print '%s;%s;%s;%s;%s;%s;%s;%s;%s' % (data['OBJECT'][i],\n",
      "                                          Angle(data['AZ'][i]*units.degree),\n",
      "                                          Angle(data['dAZ'][i]*units.arcsec),\n",
      "                                          Angle(data['ZD'][i]*units.degree),\n",
      "                                          Angle(data['dZD'][i]*units.arcsec),\n",
      "                                          Angle(data['ROT'][i]*units.degree),\n",
      "                                          Angle(data['dROT'][i]*units.arcsec),\n",
      "                                          Angle(data['DOMEAZ'][i]*units.degree),\n",
      "                                          Angle(data['dDOMEAZ'][i]*units.degree))"
     ],
     "language": "python"
    },
    {
     "cell_type": "code",
     "execution_count": null,
     "metadata": {},
     "outputs": [],
     "input": [
      ""
     ],
     "language": "python"
    }
   ]
  }
 ],
 "cells": [],
 "metadata": {},
 "nbformat": 3,
 "nbformat_minor": 0
}