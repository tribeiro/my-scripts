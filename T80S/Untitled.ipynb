{
 "cells": [
  {
   "cell_type": "markdown",
   "metadata": {},
   "source": [
    "Generate dictionary configuration file for SWARP."
   ]
  },
  {
   "cell_type": "code",
   "execution_count": 10,
   "metadata": {
    "collapsed": false
   },
   "outputs": [],
   "source": [
    "import os\n",
    "data=None\n",
    "with open(os.path.expanduser('~/Documents/T80S/Swarpfile/foo'),'r') as fp:\n",
    "    data = fp.readlines()\n"
   ]
  },
  {
   "cell_type": "code",
   "execution_count": 15,
   "metadata": {
    "collapsed": false
   },
   "outputs": [],
   "source": [
    "def print_line(line):\n",
    "    sline = line.split(' ')\n",
    "    c1 = sline[0]\n",
    "    c2 = None\n",
    "    c3 = ''\n",
    "    sindex = 1\n",
    "    for i in range(sindex,len(sline)):\n",
    "        if len(sline[i]) > 0:\n",
    "            c2 = sline[i]\n",
    "            sindex = i+1\n",
    "            break\n",
    "    for i in range(sindex,len(sline)):\n",
    "        if sline[i] == \"#\":\n",
    "            sindex = i+1\n",
    "            break\n",
    "    for i in range(sindex,len(sline)):\n",
    "        c3 += sline[i]\n",
    "        if i < len(sline)-1:\n",
    "            c3 += ' '\n",
    "    return c1,c2,c3[:-1]"
   ]
  },
  {
   "cell_type": "code",
   "execution_count": 16,
   "metadata": {
    "collapsed": false
   },
   "outputs": [
    {
     "data": {
      "text/plain": [
       "('IMAGEOUT_NAME', 'coadd.fits', 'Output filename')"
      ]
     },
     "execution_count": 16,
     "metadata": {},
     "output_type": "execute_result"
    }
   ],
   "source": [
    "print_line(data[0])"
   ]
  },
  {
   "cell_type": "code",
   "execution_count": 18,
   "metadata": {
    "collapsed": false
   },
   "outputs": [
    {
     "name": "stdout",
     "output_type": "stream",
     "text": [
      "'IMAGEOUT_NAME' : {'values' : 'coadd.fits', 'comment' : 'Output filename'},\n",
      "'WEIGHTOUT_NAME' : {'values' : 'coadd.weight.fits', 'comment' : 'Output weight-map filename'},\n",
      "'HEADER_ONLY' : {'values' : 'N', 'comment' : 'Only a header as an output file (Y/N)?'},\n",
      "'HEADER_SUFFIX' : {'values' : '.head', 'comment' : 'Filename extension for additional headers'},\n",
      "'WEIGHT_TYPE' : {'values' : 'NONE', 'comment' : 'BACKGROUND,MAP_RMS,MAP_VARIANCE or MAP_WEIGHT'},\n",
      "'WEIGHT_SUFFIX' : {'values' : '.weight.fits', 'comment' : 'Suffix to use for weight-maps'},\n",
      "'WEIGHT_IMAGE' : {'values' : '#', 'comment' : 'Weightmap filename if suffix not used (all or for each weight-map)'},\n",
      "'COMBINE' : {'values' : 'Y', 'comment' : 'Combine resampled images (Y/N)?'},\n",
      "'COMBINE_TYPE' : {'values' : 'MEDIAN', 'comment' : 'MEDIAN,AVERAGE,MIN,MAX,WEIGHTED,CLIPPED,CHI-OLD,CHI-MODE,CHI-MEAN,SUM,WEIGHTED_WEIGHT,MEDIAN_WEIGHT,AND,NAND,OR or NOR'},\n",
      "'CELESTIAL_TYPE' : {'values' : 'NATIVE', 'comment' : 'NATIVE, PIXEL, EQUATORIAL,GALACTIC,ECLIPTIC, or SUPERGALACTIC'},\n",
      "'PROJECTION_TYPE' : {'values' : 'TAN', 'comment' : 'Any WCS projection code or NONE'},\n",
      "'PROJECTION_ERR' : {'values' : '0.001', 'comment' : 'Maximum projection error (in output pixels), or 0 for no approximation'},\n",
      "'CENTER_TYPE' : {'values' : 'ALL', 'comment' : 'MANUAL, ALL or MOST'},\n",
      "'CENTER' : {'values' : '00:00:00.0,+00:00:00.0', 'comment' : 'Coordinates of the image center'},\n",
      "'PIXELSCALE_TYPE' : {'values' : 'MEDIAN', 'comment' : 'MANUAL,FIT,MIN,MAX or MEDIAN'},\n",
      "'PIXEL_SCALE' : {'values' : '0.0', 'comment' : 'Pixel scale'},\n",
      "'IMAGE_SIZE' : {'values' : '0', 'comment' : 'Image size (0 = AUTOMATIC)'},\n",
      "'RESAMPLE' : {'values' : 'Y', 'comment' : 'Resample input images (Y/N)?'},\n",
      "'RESAMPLE_DIR' : {'values' : '.', 'comment' : 'Directory path for resampled images'},\n",
      "'RESAMPLE_SUFFIX' : {'values' : '.resamp.fits', 'comment' : 'filename extension for resampled images'},\n",
      "'RESAMPLING_TYPE' : {'values' : 'LANCZOS3', 'comment' : 'NEAREST,BILINEAR,LANCZOS2,LANCZOS3,LANCZOS4 (1 per axis) or FLAGS'},\n",
      "'OVERSAMPLING' : {'values' : '0', 'comment' : 'Oversampling in each dimension (0 = automatic)'},\n",
      "'INTERPOLATE' : {'values' : 'N', 'comment' : 'Interpolate bad input pixels (Y/N)? (all or for each image)'},\n",
      "'FSCALASTRO_TYPE' : {'values' : 'FIXED', 'comment' : 'NONE,FIXED, or VARIABLE'},\n",
      "'FSCALE_KEYWORD' : {'values' : 'FLXSCALE', 'comment' : 'FITS keyword for the multiplicative factor applied to each input image'},\n",
      "'FSCALE_DEFAULT' : {'values' : '1.0', 'comment' : 'Default FSCALE value if not in header'},\n",
      "'GAIN_KEYWORD' : {'values' : 'GAIN', 'comment' : 'FITS keyword for effect. gain (e-/ADU)'},\n",
      "'GAIN_DEFAULT' : {'values' : '0.0', 'comment' : 'Default gain if no FITS keyword found'},\n",
      "'SUBTRACT_BACK' : {'values' : 'Y', 'comment' : 'Subtraction sky background (Y/N)? (all or for each image)'},\n",
      "'BACK_TYPE' : {'values' : 'AUTO', 'comment' : 'AUTO or MANUAL (all or for each image)'},\n",
      "'BACK_DEFAULT' : {'values' : '0.0', 'comment' : 'Default background value in MANUAL (all or for each image)'},\n",
      "'BACK_SIZE' : {'values' : '128', 'comment' : 'Background mesh size (pixels) (all or for each image)'},\n",
      "'BACK_FILTERSIZE' : {'values' : '3', 'comment' : 'Background map filter range (meshes) (all or for each image)'},\n",
      "'VMEM_DIR' : {'values' : '.', 'comment' : 'Directory path for swap files'},\n",
      "'VMEM_MAX' : {'values' : '2047', 'comment' : 'Maximum amount of virtual memory (MB)'},\n",
      "'MEM_MAX' : {'values' : '256', 'comment' : 'Maximum amount of usable RAM (MB)'},\n",
      "'COMBINE_BUFSIZE' : {'values' : '256', 'comment' : 'RAM dedicated to co-addition(MB)'},\n",
      "'DELETE_TMPFILES' : {'values' : 'Y', 'comment' : 'Delete temporary resampled FITS files (Y/N)?'},\n",
      "'COPY_KEYWORDS' : {'values' : 'OBJECT', 'comment' : 'List of FITS keywords to propagate from the input to the output headers'},\n",
      "'WRITE_FILEINFO' : {'values' : 'N', 'comment' : 'Write information about each input file in the output image header?'},\n",
      "'WRITE_XML' : {'values' : 'Y', 'comment' : 'Write XML file (Y/N)?'},\n",
      "'XML_NAME' : {'values' : 'swarp.xml', 'comment' : 'Filename for XML output'},\n",
      "'VERBOSE_TYPE' : {'values' : 'NORMAL', 'comment' : 'QUIET,LOG,NORMAL, or FULL'},\n",
      "'NTHREADS' : {'values' : '0', 'comment' : 'Number of simultaneous threads for the SMP version of SWarp 0 = automatic'},\n"
     ]
    }
   ],
   "source": [
    "ll = \"'%s' : {'values' : '%s', 'comment' : '%s'},\"\n",
    "for i in range(len(data)):\n",
    "    print ll% print_line(data[i])"
   ]
  },
  {
   "cell_type": "code",
   "execution_count": 20,
   "metadata": {
    "collapsed": false
   },
   "outputs": [
    {
     "data": {
      "text/plain": [
       "22860"
      ]
     },
     "execution_count": 20,
     "metadata": {},
     "output_type": "execute_result"
    }
   ],
   "source": [
    "120*381/2"
   ]
  },
  {
   "cell_type": "code",
   "execution_count": 21,
   "metadata": {
    "collapsed": true
   },
   "outputs": [],
   "source": [
    "from astropy.io import fits, ascii\n"
   ]
  },
  {
   "cell_type": "code",
   "execution_count": 30,
   "metadata": {
    "collapsed": false
   },
   "outputs": [],
   "source": [
    "tbl = fits.open('/Volumes/TiagoStorage/data/20160901/STRIPE82_0029/R/astrometry/STRIPE82-20160902-073332_axy.fits')"
   ]
  },
  {
   "cell_type": "code",
   "execution_count": 31,
   "metadata": {
    "collapsed": false
   },
   "outputs": [],
   "source": [
    "mask = tbl[1].data['FLAGS'] == [0]\n",
    "# tbl[mask].write('/Users/tiago/Documents/T80S/foo.csv',format='ascii.csv')"
   ]
  },
  {
   "cell_type": "code",
   "execution_count": 32,
   "metadata": {
    "collapsed": true
   },
   "outputs": [],
   "source": [
    "tbl[1].data = tbl[1].data[mask]\n",
    "tbl.writeto('/Users/tiago/Documents/T80S/foo.fits')\n",
    "tbl.close()"
   ]
  },
  {
   "cell_type": "code",
   "execution_count": 35,
   "metadata": {
    "collapsed": false
   },
   "outputs": [],
   "source": [
    "import numpy as np\n",
    "a = np.zeros((2,10))"
   ]
  },
  {
   "cell_type": "code",
   "execution_count": 36,
   "metadata": {
    "collapsed": false
   },
   "outputs": [
    {
     "data": {
      "text/plain": [
       "array([ 0.,  0.,  0.,  0.,  0.,  0.,  0.,  0.,  0.,  0.])"
      ]
     },
     "execution_count": 36,
     "metadata": {},
     "output_type": "execute_result"
    }
   ],
   "source": [
    "a[0]"
   ]
  },
  {
   "cell_type": "code",
   "execution_count": 37,
   "metadata": {
    "collapsed": false
   },
   "outputs": [
    {
     "data": {
      "text/plain": [
       "0.0"
      ]
     },
     "execution_count": 37,
     "metadata": {},
     "output_type": "execute_result"
    }
   ],
   "source": [
    "np.median(a[0])"
   ]
  },
  {
   "cell_type": "code",
   "execution_count": 45,
   "metadata": {
    "collapsed": false
   },
   "outputs": [
    {
     "name": "stdout",
     "output_type": "stream",
     "text": [
      "1.3966 -7.4745\n",
      "4607.84754062 4625.17567188\n"
     ]
    }
   ],
   "source": [
    "rx = 4670.1775\n",
    "ry = 4701.1565\n",
    "\n",
    "xx = 4668.7809\n",
    "yy = 4708.631\n",
    "\n",
    "print rx-xx, ry-yy\n",
    "print 4609.244140625-(rx-xx), 4617.701171875-(ry-yy)"
   ]
  },
  {
   "cell_type": "code",
   "execution_count": 46,
   "metadata": {
    "collapsed": false
   },
   "outputs": [
    {
     "name": "stdout",
     "output_type": "stream",
     "text": [
      "4607.20117188 4624.16210938\n"
     ]
    }
   ],
   "source": [
    "print 4608.5-1.298828125, 4616.5+7.662109375"
   ]
  },
  {
   "cell_type": "code",
   "execution_count": 50,
   "metadata": {
    "collapsed": true
   },
   "outputs": [],
   "source": [
    "wcs = fits.getheader('/Volumes/TiagoStorage/data/20160901/STRIPE82_0029/R/astrometry/STRIPE82-20160902-073332_axy-out.wcs')"
   ]
  },
  {
   "cell_type": "code",
   "execution_count": 51,
   "metadata": {
    "collapsed": false
   },
   "outputs": [
    {
     "name": "stdout",
     "output_type": "stream",
     "text": [
      "SIMPLE  =                    T / Standard FITS file                             BITPIX  =                    8 / ASCII or bytes array                           NAXIS   =                    0 / Minimal header                                 EXTEND  =                    T / There may be FITS ext                          WCSAXES =                    2 / no comment                                     CTYPE1  = 'RA---TAN-SIP' / TAN (gnomic) projection + SIP distortions            CTYPE2  = 'DEC--TAN-SIP' / TAN (gnomic) projection + SIP distortions            EQUINOX =               2000.0 / Equatorial coordinates definition (yr)         LONPOLE =                180.0 / no comment                                     LATPOLE =                  0.0 / no comment                                     CRVAL1  =        19.7639413445 / RA  of reference point                         CRVAL2  =      -0.665110699379 / DEC of reference point                         CRPIX1  =               4608.5 / X reference pixel                              CRPIX2  =               4616.5 / Y reference pixel                              CUNIT1  = 'deg     ' / X pixel scale units                                      CUNIT2  = 'deg     ' / Y pixel scale units                                      CD1_1   =   -0.000154283537379 / Transformation matrix                          CD1_2   =    2.14775693696E-06 / no comment                                     CD2_1   =   -2.04031940342E-06 / no comment                                     CD2_2   =   -0.000154153120513 / no comment                                     IMAGEW  =                 9216 / Image width,  in pixels.                       IMAGEH  =                 9232 / Image height, in pixels.                       A_ORDER =                    6 / Polynomial order, axis 1                       A_0_0   =                    0 / no comment                                     A_0_1   =                    0 / no comment                                     A_0_2   =    6.52544617109E-07 / no comment                                     A_0_3   =    2.85960500341E-10 / no comment                                     A_0_4   =   -2.28949750628E-13 / no comment                                     A_0_5   =    1.25806853093E-17 / no comment                                     A_0_6   =    5.67441208118E-21 / no comment                                     A_1_0   =                    0 / no comment                                     A_1_1   =   -5.80874650708E-07 / no comment                                     A_1_2   =   -4.36324847827E-10 / no comment                                     A_1_3   =    3.28115218202E-13 / no comment                                     A_1_4   =   -2.67762985932E-17 / no comment                                     A_1_5   =   -7.20912942843E-21 / no comment                                     A_2_0   =    3.92554048119E-07 / no comment                                     A_2_1   =   -3.00459571967E-12 / no comment                                     A_2_2   =   -1.32979504397E-13 / no comment                                     A_2_3   =   -1.01386914529E-17 / no comment                                     A_2_4   =    1.11289851251E-20 / no comment                                     A_3_0   =   -1.57807029177E-10 / no comment                                     A_3_1   =   -4.83580584603E-14 / no comment                                     A_3_2   =    3.17725110122E-17 / no comment                                     A_3_3   =   -1.58766287883E-20 / no comment                                     A_4_0   =   -3.97634773546E-14 / no comment                                     A_4_1   =   -3.01919179229E-18 / no comment                                     A_4_2   =    6.12299001988E-21 / no comment                                     A_5_0   =    4.91671678725E-19 / no comment                                     A_5_1   =     5.5523268395E-21 / no comment                                     A_6_0   =    5.98611907291E-22 / no comment                                     B_ORDER =                    6 / Polynomial order, axis 2                       B_0_0   =                    0 / no comment                                     B_0_1   =                    0 / no comment                                     B_0_2   =   -3.15512279879E-07 / no comment                                     B_0_3   =   -6.54320855704E-11 / no comment                                     B_0_4   =    1.33357521404E-13 / no comment                                     B_0_5   =    6.00900311632E-18 / no comment                                     B_0_6   =   -1.05837644299E-20 / no comment                                     B_1_0   =                    0 / no comment                                     B_1_1   =    1.80283397299E-07 / no comment                                     B_1_2   =    7.22453793073E-11 / no comment                                     B_1_3   =   -1.96125102933E-13 / no comment                                     B_1_4   =   -1.64844545494E-17 / no comment                                     B_1_5   =    1.56125885131E-20 / no comment                                     B_2_0   =    8.59723613334E-07 / no comment                                     B_2_1   =   -1.43073601151E-10 / no comment                                     B_2_2   =    1.41636656864E-14 / no comment                                     B_2_3   =    8.44549239024E-18 / no comment                                     B_2_4   =   -5.59356456983E-21 / no comment                                     B_3_0   =    2.27891304537E-12 / no comment                                     B_3_1   =    8.86177296208E-14 / no comment                                     B_3_2   =   -3.47611566447E-18 / no comment                                     B_3_3   =    3.85733489067E-21 / no comment                                     B_4_0   =   -1.18690312423E-13 / no comment                                     B_4_1   =   -3.61853949673E-18 / no comment                                     B_4_2   =    1.01438482925E-21 / no comment                                     B_5_0   =   -3.80713328779E-19 / no comment                                     B_5_1   =   -5.88842523546E-21 / no comment                                     B_6_0   =    3.94588175654E-21 / no comment                                     AP_ORDER=                    6 / Inv polynomial order, axis 1                   AP_0_0  =      -0.209280943297 / no comment                                     AP_0_1  =   -0.000781620095639 / no comment                                     AP_0_2  =   -6.75828409848E-07 / no comment                                     AP_0_3  =    -1.6714889293E-10 / no comment                                     AP_0_4  =    2.49068768738E-13 / no comment                                     AP_0_5  =    -1.6740199279E-17 / no comment                                     AP_0_6  =   -6.69589843999E-21 / no comment                                     AP_1_0  =    0.000508709954133 / no comment                                     AP_1_1  =    4.36163342336E-07 / no comment                                     AP_1_2  =    2.72414043743E-10 / no comment                                     AP_1_3  =    -3.3755077792E-13 / no comment                                     AP_1_4  =    3.31958191792E-17 / no comment                                     AP_1_5  =    8.77087940192E-21 / no comment                                     AP_2_0  =    -2.6762871067E-07 / no comment                                     AP_2_1  =    1.30887304472E-10 / no comment                                     AP_2_2  =    1.12981408246E-13 / no comment                                     AP_2_3  =    3.31220575953E-18 / no comment                                     AP_2_4  =   -1.19633041811E-20 / no comment                                     AP_3_0  =    1.14745279206E-10 / no comment                                     AP_3_1  =    7.63623405452E-14 / no comment                                     AP_3_2  =   -2.53326400284E-17 / no comment                                     AP_3_3  =    1.52646664044E-20 / no comment                                     AP_4_0  =    3.01007382702E-14 / no comment                                     AP_4_1  =   -8.13039642597E-19 / no comment                                     AP_4_2  =   -4.81686185185E-21 / no comment                                     AP_5_0  =    3.67448476069E-19 / no comment                                     AP_5_1  =    -6.5005877423E-21 / no comment                                     AP_6_0  =   -4.33754768484E-22 / no comment                                     BP_ORDER=                    6 / Inv polynomial order, axis 2                   BP_0_0  =        0.34832000619 / no comment                                     BP_0_1  =     0.00103770914464 / no comment                                     BP_0_2  =     3.0125816173E-08 / no comment                                     BP_0_3  =   -1.76643001864E-10 / no comment                                     BP_0_4  =    -9.9427446502E-14 / no comment                                     BP_0_5  =    4.89239634848E-18 / no comment                                     BP_0_6  =    9.59511248791E-21 / no comment                                     BP_1_0  =   -0.000247641387498 / no comment                                     BP_1_1  =    3.45701699238E-11 / no comment                                     BP_1_2  =    1.30785987755E-10 / no comment                                     BP_1_3  =    1.59793085535E-13 / no comment                                     BP_1_4  =    2.74043950925E-18 / no comment                                     BP_1_5  =   -1.41473646108E-20 / no comment                                     BP_2_0  =   -9.05442909522E-07 / no comment                                     BP_2_1  =    7.74874186389E-11 / no comment                                     BP_2_2  =    1.15511802454E-14 / no comment                                     BP_2_3  =    7.20744426247E-19 / no comment                                     BP_2_4  =    4.18134047036E-21 / no comment                                     BP_3_0  =   -1.49431721418E-11 / no comment                                     BP_3_1  =   -9.70098192096E-14 / no comment                                     BP_3_2  =    6.04373332941E-19 / no comment                                     BP_3_3  =   -3.11812401205E-21 / no comment                                     BP_4_0  =    1.19617645394E-13 / no comment                                     BP_4_1  =    3.47390268785E-18 / no comment                                     BP_4_2  =   -1.44287667701E-21 / no comment                                     BP_5_0  =    1.33639064729E-18 / no comment                                     BP_5_1  =    6.02378431059E-21 / no comment                                     BP_6_0  =   -3.94475580227E-21 / no comment                                     HISTORY Created by the Astrometry.net suite.                                    HISTORY For more details, see http://astrometry.net.                            HISTORY Git URL https://github.com/dstndstn/astrometry.net                      HISTORY Git revision 0.64                                                       HISTORY Git date Thu_Oct_22_10:00:31_2015_-0400                                 HISTORY This WCS header was created by the program \"blind\".                     DATE    = '2016-09-28T10:39:55' / Date this file was created.                   COMMENT -- blind solver parameters: --                                          COMMENT Index(0):                                                               COMMENT   /Volumes/TiagoHD2/Documents/astrometry/index/index-4212.fi            COMMENT   ts                                                                    COMMENT Index(1):                                                               COMMENT   /Volumes/TiagoHD2/Documents/astrometry/index/index-4211.fi            COMMENT   ts                                                                    COMMENT Index(2):                                                               COMMENT   /Volumes/TiagoHD2/Documents/astrometry/index/index-4210.fi            COMMENT   ts                                                                    COMMENT Index(3):                                                               COMMENT   /Volumes/TiagoHD2/Documents/astrometry/index/index-4209.fi            COMMENT   ts                                                                    COMMENT Index(4):                                                               COMMENT   /Volumes/TiagoHD2/Documents/astrometry/index/index-4208.fi            COMMENT   ts                                                                    COMMENT Index(5):                                                               COMMENT   /Volumes/TiagoHD2/Documents/astrometry/index/index-4207-04            COMMENT   .fits                                                                 COMMENT Index(6):                                                               COMMENT   /Volumes/TiagoHD2/Documents/astrometry/index/index-4206-04            COMMENT   .fits                                                                 COMMENT Index(7):                                                               COMMENT   /Volumes/TiagoHD2/Documents/astrometry/index/index-4205-04            COMMENT   .fits                                                                 COMMENT Index(8):                                                               COMMENT   /Volumes/TiagoHD2/Documents/astrometry/index/index-4204-18            COMMENT   .fits                                                                 COMMENT Index(9):                                                               COMMENT   /Volumes/TiagoHD2/Documents/astrometry/index/index-4203-18            COMMENT   .fits                                                                 COMMENT Field name:                                                             COMMENT   /Volumes/TiagoStorage/data/20160901/STRIPE82_0029/R/astrom            COMMENT   etry/STRIPE82-20160902-073332_axy-out.axy                             COMMENT Field scale lower: 0.5 arcsec/pixel                                     COMMENT Field scale upper: 0.6 arcsec/pixel                                     COMMENT X col name: X_IMAGE                                                     COMMENT Y col name: Y_IMAGE                                                     COMMENT Start obj: 10                                                           COMMENT End obj: 20                                                             COMMENT Solved_in: (null)                                                       COMMENT Solved_out:                                                             COMMENT   /Volumes/TiagoStorage/data/20160901/STRIPE82_0029/R/astrom            COMMENT   etry/STRIPE82-20160902-073332_axy-out.solved                          COMMENT Solvedserver: (null)                                                    COMMENT Parity: 2                                                               COMMENT Codetol: 0.01                                                           COMMENT Verify pixels: 1 pix                                                    COMMENT Maxquads: 0                                                             COMMENT Maxmatches: 0                                                           COMMENT Cpu limit: 300.000000 s                                                 COMMENT Time limit: 0 s                                                         COMMENT Total time limit: 0 s                                                   COMMENT Total CPU limit: 300.000000 s                                           COMMENT Tweak: yes                                                              COMMENT Tweak AB order: 6                                                       COMMENT Tweak ABP order: 6                                                      COMMENT --                                                                      COMMENT -- properties of the matching quad: --                                  COMMENT index id: 4209                                                          COMMENT index healpix: -1                                                       COMMENT index hpnside: 0                                                        COMMENT log odds: 342.057                                                       COMMENT odds: 3.57835e+148                                                      COMMENT quadno: 308715                                                          COMMENT stars: 615934,615954,615940,615939                                      COMMENT field: 6,10,2,18                                                        COMMENT code error: 0.0048256                                                   COMMENT nmatch: 36                                                              COMMENT nconflict: 1                                                            COMMENT nfield: 400                                                             COMMENT nindex: 40                                                              COMMENT scale: 0.555237 arcsec/pix                                              COMMENT parity: 1                                                               COMMENT quads tried: 776                                                        COMMENT quads matched: 172                                                      COMMENT quads verified: 0                                                       COMMENT objs tried: 19                                                          COMMENT cpu time: 0.031664                                                      COMMENT --                                                                      END                                                                                                                                                                                                                                                                                                                                                                                                                                                                                                                                                                                                                                                                                                                                                                                                                                                                                                                                                                                                                                                                                                                                                                                                                                                                                                                                                                                                                                                                                                                                                                                                                                                                                                                                                                                                                                                                                                                                                                                                                                                                                                                                                                                                                                             \n"
     ]
    }
   ],
   "source": [
    "print wcs"
   ]
  },
  {
   "cell_type": "code",
   "execution_count": 49,
   "metadata": {
    "collapsed": false
   },
   "outputs": [
    {
     "name": "stdout",
     "output_type": "stream",
     "text": [
      "19.7639413445\n"
     ]
    }
   ],
   "source": [
    "print wcs['CRVAL1']"
   ]
  },
  {
   "cell_type": "code",
   "execution_count": 52,
   "metadata": {
    "collapsed": false
   },
   "outputs": [
    {
     "data": {
      "text/plain": [
       "4609.060546875"
      ]
     },
     "execution_count": 52,
     "metadata": {},
     "output_type": "execute_result"
    }
   ],
   "source": [
    "4608.5+0.560546875"
   ]
  },
  {
   "cell_type": "code",
   "execution_count": 53,
   "metadata": {
    "collapsed": false
   },
   "outputs": [
    {
     "data": {
      "text/plain": [
       "4608.501953125"
      ]
     },
     "execution_count": 53,
     "metadata": {},
     "output_type": "execute_result"
    }
   ],
   "source": [
    "4608.5+0.001953125"
   ]
  },
  {
   "cell_type": "code",
   "execution_count": 54,
   "metadata": {
    "collapsed": false
   },
   "outputs": [
    {
     "name": "stdout",
     "output_type": "stream",
     "text": [
      "2.9017 -7.0408\n"
     ]
    }
   ],
   "source": [
    "dx = 4670.1913-4667.2896\n",
    "dy = 4702.1564-4709.1972\n",
    "print dx,dy"
   ]
  },
  {
   "cell_type": "code",
   "execution_count": 56,
   "metadata": {
    "collapsed": false
   },
   "outputs": [
    {
     "name": "stdout",
     "output_type": "stream",
     "text": [
      "4608\n",
      "4616\n"
     ]
    }
   ],
   "source": [
    "print 9216/2\n",
    "print 9232/2"
   ]
  },
  {
   "cell_type": "code",
   "execution_count": null,
   "metadata": {
    "collapsed": true
   },
   "outputs": [],
   "source": []
  }
 ],
 "metadata": {
  "kernelspec": {
   "display_name": "Python 2",
   "language": "python",
   "name": "python2"
  },
  "language_info": {
   "codemirror_mode": {
    "name": "ipython",
    "version": 2
   },
   "file_extension": ".py",
   "mimetype": "text/x-python",
   "name": "python",
   "nbconvert_exporter": "python",
   "pygments_lexer": "ipython2",
   "version": "2.7.11"
  }
 },
 "nbformat": 4,
 "nbformat_minor": 0
}
