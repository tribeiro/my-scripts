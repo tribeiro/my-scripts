{
 "cells": [
  {
   "cell_type": "markdown",
   "metadata": {},
   "source": [
    "Trying to determine the impact of the observational strategy on the analysis of eclipsing binaries. \n",
    "\n",
    "Here I do a primarily analysis of observing time files sent by Alessandro, to get a hold of how to do the analysis."
   ]
  },
  {
   "cell_type": "code",
   "execution_count": 42,
   "metadata": {},
   "outputs": [
    {
     "name": "stdout",
     "output_type": "stream",
     "text": [
      "Number of trays: 4\n"
     ]
    },
    {
     "data": {
      "text/plain": [
       "(30.0, 33)"
      ]
     },
     "execution_count": 42,
     "output_type": "execute_result",
     "metadata": {}
    },
    {
     "data": {
      "image/png": "[encoded data removed]"
     },
     "output_type": "display_data",
     "text": [
      "<matplotlib.figure.Figure at 0x111e029d0>"
     ],
     "metadata": {}
    }
   ],
   "source": [
    "import os\n",
    "import numpy as np\n",
    "import pylab as py\n",
    "%matplotlib inline\n",
    "\n",
    "path = os.path.expanduser('~/Documents/jvar')\n",
    "tmt01 = 'filtersObservations_0years.txt'\n",
    "tmt02 = 'filtersObservations_5years.txt'\n",
    "\n",
    "tmt01_data = np.loadtxt(os.path.join(path,tmt01),unpack=True)\n",
    "tmt02_data = np.loadtxt(os.path.join(path,tmt02),unpack=True)\n",
    "\n",
    "nobs = 4 # number of observations per filter\n",
    "colors = 'rgby'\n",
    "trays_id = np.unique(tmt01_data[1])\n",
    "ntrays = len(trays_id)\n",
    "\n",
    "print 'Number of trays: %i' % ntrays\n",
    "\n",
    "#for i,tray in enumerate(trays_id):\n",
    "for n in range(2):\n",
    "    py.plot(tmt01_data[2+n],tmt01_data[1]*0., colors[n]+'o')\n",
    "    #mask = tmt01_data[1] == tray \n",
    "py.xlim(30.,33)\n",
    "#py.plot(tmt02_data[2],tmt02_data[1], colors[1]+'o')\n",
    "#py.plot(tmt01_data[3],tmt01_data[0]+1, colors[1]+'o')"
   ]
  },
  {
   "cell_type": "code",
   "execution_count": null,
   "metadata": {},
   "outputs": [],
   "source": [
    ""
   ]
  }
 ],
 "metadata": {},
 "nbformat": 4,
 "nbformat_minor": 0
}