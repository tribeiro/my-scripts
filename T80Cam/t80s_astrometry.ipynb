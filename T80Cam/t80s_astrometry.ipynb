{
 "cells": [
  {
   "cell_type": "code",
   "execution_count": 1,
   "metadata": {},
   "outputs": [],
   "source": [
    "%matplotlib inline"
   ]
  },
  {
   "cell_type": "markdown",
   "metadata": {},
   "source": [
    " - Run sextractor to extract the sources on your images.\n",
    " - Perform magnitude cut so that you exclude saturated sources and fait sources. \n",
    " - Save the selected sources in a .tsv file\n"
   ]
  },
  {
   "cell_type": "code",
   "execution_count": 2,
   "metadata": {},
   "outputs": [],
   "source": [
    "import os\n",
    "import numpy as np\n",
    "import matplotlib.pyplot as py\n",
    "from astropy.io import ascii"
   ]
  },
  {
   "cell_type": "code",
   "execution_count": 3,
   "metadata": {},
   "outputs": [],
   "source": [
    "path = '/Volumes/TiagoHD2/Documents/data/T80S/to_solve_astrometry'\n",
    "\n",
    "cat01 = 't_20160305-041901.tsv'\n",
    "cat02 = 't_20160310-040135.tsv'"
   ]
  },
  {
   "cell_type": "code",
   "execution_count": 12,
   "metadata": {},
   "outputs": [],
   "source": [
    "data_cat01 = ascii.read(os.path.join(path,cat01))\n",
    "\n",
    "data_cat01.write(os.path.join(path,cat01.replace('.tsv','_axy.fits')),format='fits')"
   ]
  },
  {
   "cell_type": "code",
   "execution_count": 13,
   "metadata": {},
   "outputs": [
    {
     "data": {
      "text/plain": [
       "16"
      ]
     },
     "execution_count": 13,
     "output_type": "execute_result",
     "metadata": {}
    }
   ],
   "source": [
    "#data_cat02 = ascii.read(os.path.join(path,cat02))\n",
    "#data_cat02.write(os.path.join(path,cat02.replace('.tsv','_axy.fits')),format='fits')\n",
    "32/2"
   ]
  },
  {
   "cell_type": "markdown",
   "metadata": {},
   "source": [
    "Then you can solve the astrometry with:\n",
    "\n",
    "``\n",
    "    solve-field --ra 09:33:45 --dec -41:18:44 --radius 2 -L0.4 -H 0.6 -u app --over -t 6 --crpix-center t_20160305-041901_axy.fits -w 9216 -e 9232\n",
    "``\n"
   ]
  },
  {
   "cell_type": "code",
   "execution_count": null,
   "metadata": {},
   "outputs": [],
   "source": [
    ""
   ]
  }
 ],
 "metadata": {
  "kernelspec": {
   "display_name": "Python 2",
   "language": "python",
   "name": "python2"
  },
  "language_info": {
   "codemirror_mode": {
    "name": "ipython",
    "version": 2.0
   },
   "file_extension": ".py",
   "mimetype": "text/x-python",
   "name": "python",
   "nbconvert_exporter": "python",
   "pygments_lexer": "ipython2",
   "version": "2.7.11"
  }
 },
 "nbformat": 4,
 "nbformat_minor": 0
}